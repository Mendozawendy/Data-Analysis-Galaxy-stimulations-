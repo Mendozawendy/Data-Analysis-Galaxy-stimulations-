{
 "cells": [
  {
   "cell_type": "code",
   "execution_count": 3,
   "id": "c0c8af20",
   "metadata": {},
   "outputs": [
    {
     "name": "stdout",
     "output_type": "stream",
     "text": [
      "CPU times: user 27 µs, sys: 1 µs, total: 28 µs\n",
      "Wall time: 28.8 µs\n"
     ]
    }
   ],
   "source": [
    "%%time\n",
    "import astropy.io.fits as fits\n",
    "from astropy.convolution import Gaussian2DKernel\n",
    "import matplotlib ; import matplotlib.pyplot as pyplot\n",
    "import numpy as np\n",
    "import statmorph\n",
    "import photutils\n",
    "from photutils.segmentation import SourceCatalog\n",
    "import scipy.ndimage as ndi\n",
    "import warnings; warnings.simplefilter('ignore')\n",
    "import time \n",
    "from astropy.convolution import convolve"
   ]
  },
  {
   "cell_type": "code",
   "execution_count": 2,
   "id": "64924d9b",
   "metadata": {},
   "outputs": [
    {
     "name": "stdout",
     "output_type": "stream",
     "text": [
      "CPU times: user 3 µs, sys: 0 ns, total: 3 µs\n",
      "Wall time: 5.96 µs\n"
     ]
    }
   ],
   "source": [
    "%%time\n",
    "def compute_morphs(image):\n",
    "    \n",
    "    threshold = photutils.detect_threshold(image, 2.5)\n",
    "    npixels = 10  # minimum number of connected pixels\n",
    "    kernel_sigma = 3.0 / (2.0 * np.sqrt(2.0 * np.log(2.0)))  # FWHM = 3\n",
    "    kernel = Gaussian2DKernel(kernel_sigma, x_size=3, y_size=3)\n",
    "    kernel.normalize()\n",
    "    # Detect \n",
    "    segm = photutils.detect_sources(image, threshold, npixels, filter_kernel=kernel)\n",
    "    \n",
    "    cat = SourceCatalog(image, segm)\n",
    "    tbl = cat.to_table()\n",
    "    \n",
    "    totals=tbl['segment_flux']\n",
    "\n",
    "    labels = tbl['label']\n",
    "    segm.keep_labels(labels[totals > 1e6])\n",
    "    \n",
    "    source_morphs = statmorph.source_morphology(image, segm, gain=5)\n",
    "    \n",
    "    d = []\n",
    "    m = []\n",
    "    s = []\n",
    "    c = []\n",
    "    g = []\n",
    "    a = [] \n",
    "    b = []\n",
    "    \n",
    "    flux = []\n",
    "    for sm in source_morphs:\n",
    "        d.append(sm.deviation)\n",
    "        m.append(sm.m20)\n",
    "        s.append(sm.gini_m20_merger)\n",
    "        c.append(sm.concentration)\n",
    "        g.append(sm.gini) \n",
    "        a.append(sm.asymmetry)\n",
    "        b.append(sm.gini_m20_bulge)\n",
    "        flux.append(sm.flux_circ)\n",
    "        \n",
    "    print(d)\n",
    "    \n",
    "    d = np.asarray(d) \n",
    "    m = np.asarray(m) \n",
    "    s = np.asarray(s) \n",
    "    c = np.asarray(c) \n",
    "    g = np.asarray(g) \n",
    "    a = np.asarray(a) \n",
    "    b = np.asarray(b)\n",
    "    flux = np.asarray(flux)\n",
    "    \n",
    "    \n",
    "    return d, m, s, flux, c, g, a, b "
   ]
  },
  {
   "cell_type": "code",
   "execution_count": null,
   "id": "a2d27762",
   "metadata": {},
   "outputs": [],
   "source": []
  }
 ],
 "metadata": {
  "kernelspec": {
   "display_name": "Python 3",
   "language": "python",
   "name": "python3"
  },
  "language_info": {
   "codemirror_mode": {
    "name": "ipython",
    "version": 3
   },
   "file_extension": ".py",
   "mimetype": "text/x-python",
   "name": "python",
   "nbconvert_exporter": "python",
   "pygments_lexer": "ipython3",
   "version": "3.8.10"
  }
 },
 "nbformat": 4,
 "nbformat_minor": 5
}
