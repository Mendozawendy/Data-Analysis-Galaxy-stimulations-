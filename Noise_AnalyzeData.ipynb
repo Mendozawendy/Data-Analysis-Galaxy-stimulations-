{
 "cells": [
  {
   "cell_type": "code",
   "execution_count": 43,
   "id": "7b7a5128",
   "metadata": {},
   "outputs": [
    {
     "name": "stderr",
     "output_type": "stream",
     "text": [
      "UsageError: Line magic function `%` not found.\n"
     ]
    }
   ],
   "source": [
    "import astropy.io.fits as fits\n",
    "import numpy as np\n",
    "import matplotlib ; import matplotlib.pyplot as pyplot\n",
    "import custom_morphs\n",
    "%matplotlib inline\n",
    "# Install a pip package in the current Jupyter kernel\n",
    "import sys\n",
    "!{sys.executable} -m pip install statmorph\n",
    "!{sys.executable} -m pip install photutils -U \n",
    "import matplotlib.pyplot as plt"
   ]
  },
  {
   "cell_type": "code",
   "execution_count": 53,
   "id": "675bbf8d",
   "metadata": {},
   "outputs": [
    {
     "name": "stdout",
     "output_type": "stream",
     "text": [
      "CPU times: user 1.32 ms, sys: 970 µs, total: 2.29 ms\n",
      "Wall time: 5.99 ms\n"
     ]
    }
   ],
   "source": [
    "%%time\n",
    "#Reading fits file \n",
    "fo = fits.open(\"newnoise1.fits\")\n",
    "image1=fo[0].data"
   ]
  },
  {
   "cell_type": "code",
   "execution_count": 51,
   "id": "f7057205",
   "metadata": {},
   "outputs": [
    {
     "name": "stdout",
     "output_type": "stream",
     "text": [
      "CPU times: user 1.79 ms, sys: 1.46 ms, total: 3.26 ms\n",
      "Wall time: 7.13 ms\n"
     ]
    }
   ],
   "source": [
    "%%time\n",
    "#Reading fits file \n",
    "fo = fits.open(\"newnoise2.fits\")\n",
    "image=fo[0].data"
   ]
  },
  {
   "cell_type": "code",
   "execution_count": 52,
   "id": "87c09454",
   "metadata": {},
   "outputs": [
    {
     "name": "stdout",
     "output_type": "stream",
     "text": [
      "CPU times: user 1.66 ms, sys: 1.44 ms, total: 3.1 ms\n",
      "Wall time: 4.69 ms\n"
     ]
    }
   ],
   "source": [
    "%%time\n",
    "#Reading fits file \n",
    "fo = fits.open(\"newnoise3.fits\")\n",
    "image=fo[0].data"
   ]
  },
  {
   "cell_type": "code",
   "execution_count": 54,
   "id": "174b9e70",
   "metadata": {},
   "outputs": [
    {
     "name": "stdout",
     "output_type": "stream",
     "text": [
      "CPU times: user 1.79 ms, sys: 1.86 ms, total: 3.65 ms\n",
      "Wall time: 5.6 ms\n"
     ]
    }
   ],
   "source": [
    "%%time\n",
    "#Reading fits file \n",
    "fo = fits.open(\"newnoise1.fits\")\n",
    "image=fo[0].data"
   ]
  },
  {
   "cell_type": "code",
   "execution_count": 48,
   "id": "a59117f4",
   "metadata": {},
   "outputs": [
    {
     "name": "stdout",
     "output_type": "stream",
     "text": [
      "CPU times: user 2min 58s, sys: 3.62 s, total: 3min 2s\n",
      "Wall time: 2min 9s\n"
     ]
    }
   ],
   "source": [
    "%%time\n",
    "#Returning more morphogies \n",
    "d, m, s, flux, c, g, a, b =custom_morphs.compute_morphs(image) "
   ]
  },
  {
   "cell_type": "code",
   "execution_count": 49,
   "id": "85220f61",
   "metadata": {},
   "outputs": [
    {
     "name": "stdout",
     "output_type": "stream",
     "text": [
      "CPU times: user 2.02 ms, sys: 1.83 ms, total: 3.85 ms\n",
      "Wall time: 6.13 ms\n"
     ]
    }
   ],
   "source": [
    "%%time\n",
    "#Reading fits file \n",
    "fo = fits.open(\"newnoise1.fits\")\n",
    "image=fo[0].data"
   ]
  },
  {
   "cell_type": "code",
   "execution_count": 57,
   "id": "d1852c62",
   "metadata": {},
   "outputs": [
    {
     "name": "stdout",
     "output_type": "stream",
     "text": [
      "RAM memory % used: 51.7\n"
     ]
    }
   ],
   "source": [
    "# Importing the library\n",
    "import psutil\n",
    "  \n",
    "# Getting % usage of virtual_memory ( 3rd field)\n",
    "print('RAM memory % used:', psutil.virtual_memory()[2])\n"
   ]
  },
  {
   "cell_type": "code",
   "execution_count": 1,
   "id": "18231558",
   "metadata": {},
   "outputs": [
    {
     "name": "stdout",
     "output_type": "stream",
     "text": [
      "The CPU usage is:  15.2\n"
     ]
    }
   ],
   "source": [
    "# Importing the library\n",
    "import psutil\n",
    "  \n",
    "# Calling psutil.cpu_precent() for 4 seconds\n",
    "print('The CPU usage is: ', psutil.cpu_percent(4))"
   ]
  },
  {
   "cell_type": "code",
   "execution_count": 44,
   "id": "ea180aa9",
   "metadata": {},
   "outputs": [],
   "source": [
    "#Use this to create and save Morphology catalogs converted into a text file for plotting \n",
    "# c_file = open(\"newnoise7_c.txt\", \"w\")\n",
    "# a_file = open(\"newnoise7_a.txt\", \"w\") \n",
    "# d_file = open(\"newnoise7_d.txt\", \"w\")\n",
    "# m_file = open(\"newnoise7_m.txt\", \"w\")\n",
    "# s_file = open(\"newnoise7_s.txt\", \"w\")\n",
    "# flux_file = open(\"newnoise7_flux\", \"w\")\n",
    "# g_file = open(\"newnoise7_g.txt\", \"w\")\n",
    "# b_file = open(\"newnoise7_b.txt\", \"w\") \n",
    "# for item in c:\n",
    "#     item = str(item)\n",
    "#     c_file.write(item + \"\\n\")\n",
    "# for item in a:\n",
    "#     item = str(item)\n",
    "#     a_file.write(item + \"\\n\")\n",
    "# for item in d:\n",
    "#     item = str(item)\n",
    "#     d_file.write(item + \"\\n\")\n",
    "# for item in m:\n",
    "#     item = str(item)\n",
    "#     m_file.write(item + \"\\n\")\n",
    "# for item in s:\n",
    "#     item = str(item)\n",
    "#     s_file.write(item + \"\\n\")\n",
    "# for item in flux:\n",
    "#     item = str(item)\n",
    "#     flux_file.write(item + \"\\n\")\n",
    "# for item in g:\n",
    "#     item = str(item)\n",
    "#     g_file.write(item + \"\\n\")\n",
    "# for item in b:\n",
    "#     item = str(item)\n",
    "#     b_file.write(item + \"\\n\")\n",
    "# c_file.close()\n",
    "# a_file.close()\n",
    "# d_file.close()\n",
    "# m_file.close()\n",
    "# s_file.close()\n",
    "# # flux_file.close()\n",
    "# g_file.close()\n",
    "# b_file.close() "
   ]
  }
 ],
 "metadata": {
  "kernelspec": {
   "display_name": "Python 3",
   "language": "python",
   "name": "python3"
  },
  "language_info": {
   "codemirror_mode": {
    "name": "ipython",
    "version": 3
   },
   "file_extension": ".py",
   "mimetype": "text/x-python",
   "name": "python",
   "nbconvert_exporter": "python",
   "pygments_lexer": "ipython3",
   "version": "3.8.10"
  }
 },
 "nbformat": 4,
 "nbformat_minor": 5
}
